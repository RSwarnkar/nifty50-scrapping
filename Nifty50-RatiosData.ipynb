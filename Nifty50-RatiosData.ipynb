{
 "cells": [
  {
   "cell_type": "markdown",
   "id": "2a6b700c-f5a2-4ef7-9bb4-e4f36a1ac983",
   "metadata": {},
   "source": [
    "# Ratios Data: \n",
    "The ratios data can be fetched from the [NSE Website](https://www.niftyindices.com/reports/historical-data). \n"
   ]
  },
  {
   "cell_type": "code",
   "execution_count": null,
   "id": "0e3ba700-eb98-421f-adea-368186de786d",
   "metadata": {},
   "outputs": [],
   "source": [
    "#WIP"
   ]
  },
  {
   "cell_type": "code",
   "execution_count": null,
   "id": "db371a84-de86-4461-9ddf-f7851b91d824",
   "metadata": {},
   "outputs": [],
   "source": []
  }
 ],
 "metadata": {
  "kernelspec": {
   "display_name": "rswarnka",
   "language": "python",
   "name": "rswarnka"
  },
  "language_info": {
   "codemirror_mode": {
    "name": "ipython",
    "version": 3
   },
   "file_extension": ".py",
   "mimetype": "text/x-python",
   "name": "python",
   "nbconvert_exporter": "python",
   "pygments_lexer": "ipython3",
   "version": "3.11.4"
  }
 },
 "nbformat": 4,
 "nbformat_minor": 5
}
