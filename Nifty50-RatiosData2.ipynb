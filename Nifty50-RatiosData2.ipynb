{
 "cells": [
  {
   "cell_type": "markdown",
   "id": "2a6b700c-f5a2-4ef7-9bb4-e4f36a1ac983",
   "metadata": {},
   "source": [
    "# Ratios Data: \n",
    "The ratios data can be fetched from the [NSE Website](https://www.niftyindices.com/reports/historical-data). \n"
   ]
  },
  {
   "cell_type": "code",
   "execution_count": 1,
   "id": "0e3ba700-eb98-421f-adea-368186de786d",
   "metadata": {},
   "outputs": [],
   "source": [
    "import requests as rq\n",
    "import pandas as pd\n",
    "import numpy as np \n",
    "import json \n",
    "import time \n",
    "import datetime"
   ]
  },
  {
   "cell_type": "code",
   "execution_count": 2,
   "id": "db371a84-de86-4461-9ddf-f7851b91d824",
   "metadata": {},
   "outputs": [],
   "source": [
    "# Home Page\n",
    "url1 = \"https://www.niftyindices.com/reports/historical-data\"\n",
    " "
   ]
  },
  {
   "cell_type": "code",
   "execution_count": 3,
   "id": "af7c62e8-ef98-42b4-b35c-5ea1ae7fe5cd",
   "metadata": {},
   "outputs": [
    {
     "name": "stdout",
     "output_type": "stream",
     "text": [
      "200\n"
     ]
    }
   ],
   "source": [
    "# Create Session Object\n",
    "session = rq.Session()\n",
    "\n",
    "main_headers = {\n",
    "    \"Dnt\": \"1\",\n",
    "    \"sec-ch-ua\": '\"Google Chrome\";v=\"131\", \"Chromium\";v=\"131\", \"Not_A Brand\";v=\"24\"',\n",
    "    \"sec-ch-ua-mobile\": \"?0\",\n",
    "    \"sec-ch-ua-platform\": '\"Windows\"',\n",
    "    \"sec-fetch-dest\": \"document\",\n",
    "    \"sec-fetch-mode\": \"navigate\",\n",
    "    \"sec-fetch-site\": \"none\",\n",
    "    \"sec-fetch-user\": \"?1\",\n",
    "    \"upgrade-insecure-requests\": \"1\",\n",
    "    \"user-agent\": \"Mozilla/5.0 (Windows NT 10.0; Win64; x64) AppleWebKit/537.36 (KHTML, like Gecko) Chrome/131.0.0.0 Safari/537.36\"\n",
    "}\n",
    "\n",
    "response1 = session.get(url1,headers=main_headers)\n",
    "\n",
    "print(response1.status_code)\n",
    "\n"
   ]
  },
  {
   "cell_type": "code",
   "execution_count": 4,
   "id": "364ead50-0487-4449-a15c-668fb6a9caf8",
   "metadata": {},
   "outputs": [
    {
     "name": "stdout",
     "output_type": "stream",
     "text": [
      "Header Keys:  dict_keys(['Dnt', 'sec-ch-ua', 'sec-ch-ua-mobile', 'sec-ch-ua-platform', 'sec-fetch-dest', 'sec-fetch-mode', 'sec-fetch-site', 'sec-fetch-user', 'upgrade-insecure-requests', 'user-agent', 'Cookie', 'contentType', 'dataType', 'async'])\n"
     ]
    }
   ],
   "source": [
    "\n",
    "# Parse the Cookies from Home Page: \n",
    "\n",
    "home_page_cookies = response1.cookies.get_dict()\n",
    "cookie_header = {\"Cookie\": \"; \".join([f\"{key}={value}\" for key, value in home_page_cookies.items()])}\n",
    "\n",
    "# Merge Cookies with Main Header: \n",
    "\n",
    "additional_header = { 'contentType': 'application/json; charset=utf-8', \n",
    "                      'dataType': 'json', \n",
    "                       'async': '!0'}\n",
    "\n",
    "new_header_with_cookies =  main_headers | cookie_header | additional_header\n",
    "print(\"Header Keys: \", new_header_with_cookies.keys())"
   ]
  },
  {
   "cell_type": "code",
   "execution_count": 14,
   "id": "50542c8f-cd38-49d3-957e-585964e86344",
   "metadata": {},
   "outputs": [],
   "source": [
    "url2 = \"https://www.niftyindices.com/Backpage.aspx/getHistoricaldatatabletoString\"\n",
    "\n",
    "payload =  {\"cinfo\":\"{'name':'NIFTY 50','startDate':'28-Jun-2025','endDate':'01-Jul-2025','indexName':'NIFTY 50'}\"}"
   ]
  },
  {
   "cell_type": "code",
   "execution_count": 15,
   "id": "4ce5e306-814f-4771-a380-e3fbbcafa4b4",
   "metadata": {},
   "outputs": [
    {
     "name": "stdout",
     "output_type": "stream",
     "text": [
      "200\n"
     ]
    }
   ],
   "source": [
    "# Finally, invoke API Request\n",
    "response2 = session.post(url2,json=payload,headers=new_header_with_cookies)\n",
    "print(response2.status_code)\n"
   ]
  },
  {
   "cell_type": "code",
   "execution_count": 16,
   "id": "429f1884-a0eb-4912-aac0-10ac93897fc1",
   "metadata": {
    "scrolled": true
   },
   "outputs": [
    {
     "name": "stdout",
     "output_type": "stream",
     "text": [
      "{'d': '[{\"RequestNumber\":\"His63887055124574239000\",\"Index Name\":\"\",\"INDEX_NAME\":\"Nifty 50\",\"HistoricalDate\":\"01 Jul 2025\",\"OPEN\":\"25551.35\",\"HIGH\":\"25593.4\",\"LOW\":\"25501.8\",\"CLOSE\":\"25541.80\"},{\"RequestNumber\":\"His63887055124574239000\",\"Index Name\":\"\",\"INDEX_NAME\":\"Nifty 50\",\"HistoricalDate\":\"30 Jun 2025\",\"OPEN\":\"25661.65\",\"HIGH\":\"25669.35\",\"LOW\":\"25473.3\",\"CLOSE\":\"25517.05\"}]'}\n"
     ]
    }
   ],
   "source": [
    "json_data = json.loads(response2.text)\n",
    "\n",
    "print(json_data)"
   ]
  },
  {
   "cell_type": "code",
   "execution_count": 20,
   "id": "cf22e7b3-eafa-47c5-ac86-2e2c5a1b2209",
   "metadata": {},
   "outputs": [
    {
     "name": "stdout",
     "output_type": "stream",
     "text": [
      "             RequestNumber Index Name INDEX_NAME HistoricalDate      OPEN  \\\n",
      "0  His63887055124574239000              Nifty 50     2025-07-01  25551.35   \n",
      "1  His63887055124574239000              Nifty 50     2025-06-30  25661.65   \n",
      "\n",
      "       HIGH      LOW     CLOSE  \n",
      "0  25593.40  25501.8  25541.80  \n",
      "1  25669.35  25473.3  25517.05  \n"
     ]
    }
   ],
   "source": [
    "# Step 1: Load the outer JSON\n",
    "outer_json = json.loads(response2.text)\n",
    "\n",
    "# Step 2: Parse the inner stringified JSON list\n",
    "inner_data = json.loads(outer_json[\"d\"])\n",
    "\n",
    "# Step 3: Convert to DataFrame\n",
    "df = pd.DataFrame(inner_data)\n",
    "\n",
    "# Optional: Convert numeric columns to float\n",
    "numeric_cols = [\"OPEN\", \"HIGH\", \"LOW\", \"CLOSE\"]\n",
    "df[numeric_cols] = df[numeric_cols].astype(float)\n",
    "\n",
    "# Optional: Convert HistoricalDate to datetime\n",
    "df[\"HistoricalDate\"] = pd.to_datetime(df[\"HistoricalDate\"], format=\"%d %b %Y\")\n",
    "\n",
    "print(df)"
   ]
  },
  {
   "cell_type": "code",
   "execution_count": 21,
   "id": "c15e6b80-08ec-4b5d-a546-09ee2940c9c2",
   "metadata": {},
   "outputs": [
    {
     "data": {
      "text/html": [
       "<div>\n",
       "<style scoped>\n",
       "    .dataframe tbody tr th:only-of-type {\n",
       "        vertical-align: middle;\n",
       "    }\n",
       "\n",
       "    .dataframe tbody tr th {\n",
       "        vertical-align: top;\n",
       "    }\n",
       "\n",
       "    .dataframe thead th {\n",
       "        text-align: right;\n",
       "    }\n",
       "</style>\n",
       "<table border=\"1\" class=\"dataframe\">\n",
       "  <thead>\n",
       "    <tr style=\"text-align: right;\">\n",
       "      <th></th>\n",
       "      <th>RequestNumber</th>\n",
       "      <th>Index Name</th>\n",
       "      <th>INDEX_NAME</th>\n",
       "      <th>HistoricalDate</th>\n",
       "      <th>OPEN</th>\n",
       "      <th>HIGH</th>\n",
       "      <th>LOW</th>\n",
       "      <th>CLOSE</th>\n",
       "    </tr>\n",
       "  </thead>\n",
       "  <tbody>\n",
       "    <tr>\n",
       "      <th>0</th>\n",
       "      <td>His63887055124574239000</td>\n",
       "      <td></td>\n",
       "      <td>Nifty 50</td>\n",
       "      <td>2025-07-01</td>\n",
       "      <td>25551.35</td>\n",
       "      <td>25593.40</td>\n",
       "      <td>25501.8</td>\n",
       "      <td>25541.80</td>\n",
       "    </tr>\n",
       "    <tr>\n",
       "      <th>1</th>\n",
       "      <td>His63887055124574239000</td>\n",
       "      <td></td>\n",
       "      <td>Nifty 50</td>\n",
       "      <td>2025-06-30</td>\n",
       "      <td>25661.65</td>\n",
       "      <td>25669.35</td>\n",
       "      <td>25473.3</td>\n",
       "      <td>25517.05</td>\n",
       "    </tr>\n",
       "  </tbody>\n",
       "</table>\n",
       "</div>"
      ],
      "text/plain": [
       "             RequestNumber Index Name INDEX_NAME HistoricalDate      OPEN  \\\n",
       "0  His63887055124574239000              Nifty 50     2025-07-01  25551.35   \n",
       "1  His63887055124574239000              Nifty 50     2025-06-30  25661.65   \n",
       "\n",
       "       HIGH      LOW     CLOSE  \n",
       "0  25593.40  25501.8  25541.80  \n",
       "1  25669.35  25473.3  25517.05  "
      ]
     },
     "execution_count": 21,
     "metadata": {},
     "output_type": "execute_result"
    }
   ],
   "source": [
    "df"
   ]
  },
  {
   "cell_type": "code",
   "execution_count": null,
   "id": "db27119d-5927-4751-9691-32fecb171461",
   "metadata": {},
   "outputs": [],
   "source": []
  }
 ],
 "metadata": {
  "kernelspec": {
   "display_name": "rswarnka",
   "language": "python",
   "name": "rswarnka"
  },
  "language_info": {
   "codemirror_mode": {
    "name": "ipython",
    "version": 3
   },
   "file_extension": ".py",
   "mimetype": "text/x-python",
   "name": "python",
   "nbconvert_exporter": "python",
   "pygments_lexer": "ipython3",
   "version": "3.11.4"
  }
 },
 "nbformat": 4,
 "nbformat_minor": 5
}
